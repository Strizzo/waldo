{
 "cells": [
  {
   "cell_type": "code",
   "execution_count": 1,
   "metadata": {},
   "outputs": [],
   "source": [
    "import numpy as np\n",
    "import waldo_conta_mnist as cora\n",
    "\n",
    "import warnings\n",
    "warnings.filterwarnings('ignore')"
   ]
  },
  {
   "cell_type": "code",
   "execution_count": null,
   "metadata": {},
   "outputs": [],
   "source": [
    "args = dict()\n",
    "args['dim_h'] = 40         # factor controlling size of hidden layers\n",
    "args['n_channel'] = 1      # number of channels in the input data (MNIST = 1, greyscale)\n",
    "args['n_z'] = 20           # number of dimensions in latent space. \n",
    "args['sigma'] = 1.0        # variance in n_z\n",
    "args['lr'] = 0.0001        # learning rate for Adam optimizer\n",
    "args['epochs'] = 401       # how many epochs to run for\n",
    "args['batch_size'] = 2048   # batch size for SGD\n",
    "args['save'] = True       # save weights at each epoch of training if True\n",
    "args['train'] = True       # train networks if True, else load networks from saved weights\n",
    "\n",
    "args['scheduler'] = True   # use scheduler for learning rate or not\n",
    "args['inClass'] = 0        # set which is the class of the inliers\n",
    "\n",
    "args['subspace_reg']=0.0   # weight for subspace regularization, 0 if not applied\n",
    "args['wae']=0.5           # WAE-GAN discriminator lambda, 0 if not WAE\n",
    "args['lipschitz']=0        # Lipschitz penalty weight, 0 if not applied\n",
    "args['advantage']=True     # Advantage penalty \n",
    "\n",
    "args['outratio'] = 0.3     # outlier ration in unlabeled dataset\n",
    "args['seed'] = 2           # seed for randomness\n",
    "\n",
    "args['step1set'] = 'x'\n",
    "args['step2set'] = 'x'\n",
    "args['paramscloning'] = True"
   ]
  },
  {
   "cell_type": "code",
   "execution_count": null,
   "metadata": {},
   "outputs": [
    {
     "name": "stdout",
     "output_type": "stream",
     "text": [
      "dim_h n_channel n_z sigma lr epochs batch_size save train scheduler inClass subspace_reg wae lipschitz advantage outratio seed step1set step2set paramscloning run epoch loss advantageI precision recall F1 AUC AUPRC tn fp fn tp\n",
      "\n",
      "40 1 20 1.0 0.0001 401 2048 True True True 0 0.0 0.5 0 True 0.05 11 p u True 0.05 0 400 0.029150990769267082 0.0005726837553083897 0.18846153846153846 0.9607843137254902 0.31511254019292606 0.9782290853011275 0.6343222928871761 768 211 2 49\n",
      "\n",
      "40 1 20 1.0 0.0001 401 2048 True True True 0 0.1 0.0 0 True 0.05 11 p u True 0.05 1 400 0.022533711045980453 -0.0010880231857299805 0.08747855917667238 1.0 0.16088328075709776 0.9158204650603858 0.23111084175225535 447 532 0 51\n",
      "\n",
      "40 1 20 1.0 0.0001 401 2048 True True True 0 0.0 0.5 0 True 0.05 11 p u True 0.1 2 400 0.029970642179250717 0.0011016884818673134 0.1990521327014218 0.8235294117647058 0.32061068702290074 0.9336257485629594 0.36029604524600073 810 169 9 42\n",
      "\n",
      "40 1 20 1.0 0.0001 401 2048 True True True 0 0.1 0.0 0 True 0.05 11 p u True 0.1 3 400 0.021024145185947418 -0.0011056170333176851 0.08777969018932874 1.0 0.16139240506329114 0.8899837769632879 0.2115236043857233 449 530 0 51\n",
      "\n",
      "40 1 20 1.0 0.0001 401 2048 True True True 0 0.0 0.5 0 True 0.1 11 p u True 0.05 4 400 0.03218160197138786 0.001924864947795868 0.3803921568627451 0.941747572815534 0.5418994413407822 0.9832636859689363 0.8605817150014838 769 158 6 97\n",
      "\n"
     ]
    }
   ],
   "source": [
    "combinations = [ args.copy() for i in range(4)]\n",
    "\n",
    "\n",
    "combinations[0]['step1set']='p'\n",
    "combinations[0]['step2set']='u'\n",
    "combinations[0]['conta']=0.05\n",
    "\n",
    "\n",
    "combinations[1]['step1set']='p'\n",
    "combinations[1]['step2set']='u'\n",
    "combinations[1]['wae']=0.0 \n",
    "combinations[1]['subspace_reg']=0.1 \n",
    "combinations[1]['conta']=0.05\n",
    "\n",
    "combinations[2]['step1set']='p'\n",
    "combinations[2]['step2set']='u'\n",
    "combinations[2]['conta']=0.1\n",
    "\n",
    "\n",
    "combinations[3]['step1set']='p'\n",
    "combinations[3]['step2set']='u'\n",
    "combinations[3]['wae']=0.0 \n",
    "combinations[3]['subspace_reg']=0.1 \n",
    "combinations[3]['conta']=0.1\n",
    "\n",
    "\n",
    "with open('output_conta_MNIST.csv','a+') as fout:\n",
    "    columns = list(args.keys()) + [\"run\",\"epoch\",\"loss\",\"advantageI\",\"precision\",\"recall\",\"F1\",\"AUC\",\"AUPRC\",\"tn\", \"fp\", \"fn\", \"tp\"]\n",
    "    fout.write(\";\".join(columns) + \"\\n\")\n",
    "    print(\" \".join(columns) + \"\\n\")\n",
    "    row = 0\n",
    "    \n",
    "    for outratio in [0.05,0.1,0.2,0.5]:\n",
    "        for setting in combinations:\n",
    "            for seed in [11]:\n",
    "                setting['outratio'] = outratio\n",
    "                setting['seed'] = seed\n",
    "                setting['row'] = row\n",
    "                values = cora.run(setting)\n",
    "                for v in values:\n",
    "                    allv = list(setting.values())  + list(v)\n",
    "                    strallv = list(map(str,allv))\n",
    "                    fout.write(\";\".join(strallv) + '\\n')\n",
    "                print(\" \".join(strallv) + '\\n')\n",
    "                row += 1\n",
    "                "
   ]
  },
  {
   "cell_type": "code",
   "execution_count": null,
   "metadata": {},
   "outputs": [],
   "source": [
    "row"
   ]
  },
  {
   "cell_type": "code",
   "execution_count": null,
   "metadata": {},
   "outputs": [],
   "source": []
  }
 ],
 "metadata": {
  "kernelspec": {
   "display_name": "Python 3",
   "language": "python",
   "name": "python3"
  },
  "language_info": {
   "codemirror_mode": {
    "name": "ipython",
    "version": 3
   },
   "file_extension": ".py",
   "mimetype": "text/x-python",
   "name": "python",
   "nbconvert_exporter": "python",
   "pygments_lexer": "ipython3",
   "version": "3.6.7"
  }
 },
 "nbformat": 4,
 "nbformat_minor": 2
}
