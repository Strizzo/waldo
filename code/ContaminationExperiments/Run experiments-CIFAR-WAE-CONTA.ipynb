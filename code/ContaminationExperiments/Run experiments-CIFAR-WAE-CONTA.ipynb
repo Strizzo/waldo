{
 "cells": [
  {
   "cell_type": "code",
   "execution_count": 1,
   "metadata": {},
   "outputs": [],
   "source": [
    "import numpy as np\n",
    "import wae_conta_cifar10 as cora\n",
    "\n",
    "import warnings\n",
    "warnings.filterwarnings('ignore')"
   ]
  },
  {
   "cell_type": "code",
   "execution_count": 2,
   "metadata": {},
   "outputs": [],
   "source": [
    "args = dict()\n",
    "args['dim_h'] = 32         # factor controlling size of hidden layers\n",
    "args['n_channel'] = 3      # number of channels in the input data (MNIST = 1, greyscale)\n",
    "args['n_z'] = 64           # number of dimensions in latent space. \n",
    "args['sigma'] = 1.0        # variance in n_z\n",
    "args['lr'] = 0.0001        # learning rate for Adam optimizer\n",
    "args['epochs'] = 401       # how many epochs to run for\n",
    "args['batch_size'] = 64   # batch size for SGD\n",
    "args['save'] = True       # save weights at each epoch of training if True\n",
    "args['train'] = True       # train networks if True, else load networks from saved weights\n",
    "\n",
    "args['scheduler'] = True   # use scheduler for learning rate or not\n",
    "args['inClass'] = 0        # set which is the class of the inliers\n",
    "\n",
    "args['subspace_reg']=0.0   # weight for subspace regularization, 0 if not applied\n",
    "args['wae']=0.5           # WAE-GAN discriminator lambda, 0 if not WAE\n",
    "args['lipschitz']=0        # Lipschitz penalty weight, 0 if not applied\n",
    "args['advantage']=True     # Advantage penalty \n",
    "\n",
    "args['outratio'] = 0.3     # outlier ration in unlabeled dataset\n",
    "args['seed'] = 11           # seed for randomness\n",
    "\n",
    "args['step1set'] = 'p'\n",
    "args['step2set'] = 'p'\n",
    "args['paramscloning'] = True\n",
    "args['conta'] = 0.05"
   ]
  },
  {
   "cell_type": "code",
   "execution_count": 3,
   "metadata": {},
   "outputs": [
    {
     "name": "stdout",
     "output_type": "stream",
     "text": [
      "dim_h n_channel n_z sigma lr epochs batch_size save train scheduler inClass subspace_reg wae lipschitz advantage outratio seed step1set step2set paramscloning conta run epoch loss advantageI precision recall F1 AUC AUPRC tn fp fn tp\n",
      "\n",
      "data['y_test']= [0 1 2 3 4 5 6 7 8 9]\n",
      "insize= 950 outSize= 50\n",
      "data['y_test']= [0 1 2 3 4 5 6 7 8 9]\n",
      "insize= 0 outSize= 1000\n",
      " test...dataset[key_lbl]= {1.0, 2.0, 3.0, 4.0, 5.0, 6.0, 7.0, 8.0, 9.0} 9 {1, 2, 3, 4, 5, 6, 7, 8, 9}\n",
      "keycount= dict_keys([1.0, 3.0, 8.0, 5.0, 4.0, 7.0, 2.0, 6.0, 9.0])\n",
      "valuecount= dict_values([101, 116, 118, 98, 98, 110, 110, 131, 118])\n",
      "data['y_test']= [0 1 2 3 4 5 6 7 8 9]\n",
      "insize= 950 outSize= 50\n",
      " test...dataset[key_lbl]= {0.0, 1.0, 2.0, 3.0, 4.0, 5.0, 6.0, 7.0, 8.0, 9.0} 10 {0, 1, 2, 3, 4, 5, 6, 7, 8, 9}\n",
      "keycount= dict_keys([0.0, 9.0, 5.0, 6.0, 8.0, 4.0, 3.0, 7.0, 1.0, 2.0])\n",
      "valuecount= dict_values([950, 9, 7, 9, 7, 5, 4, 4, 3, 2])\n",
      "32 3 64 1.0 0.0001 401 64 True True True 0 0.0 0.5 0 True 0.05 11 p p True 0.05 0 400 1.5651642084121704 0.0 0.14 0.14 0.14 0.7888 0.1315355439711886 907 43 43 7\n",
      "\n",
      "data['y_test']= [0 1 2 3 4 5 6 7 8 9]\n",
      "insize= 950 outSize= 50\n",
      "data['y_test']= [0 1 2 3 4 5 6 7 8 9]\n",
      "insize= 0 outSize= 1000\n",
      " test...dataset[key_lbl]= {1.0, 2.0, 3.0, 4.0, 5.0, 6.0, 7.0, 8.0, 9.0} 9 {1, 2, 3, 4, 5, 6, 7, 8, 9}\n",
      "keycount= dict_keys([1.0, 3.0, 8.0, 5.0, 4.0, 7.0, 2.0, 6.0, 9.0])\n",
      "valuecount= dict_values([101, 116, 118, 98, 98, 110, 110, 131, 118])\n",
      "data['y_test']= [0 1 2 3 4 5 6 7 8 9]\n",
      "insize= 950 outSize= 50\n",
      " test...dataset[key_lbl]= {0.0, 1.0, 2.0, 3.0, 4.0, 5.0, 6.0, 7.0, 8.0, 9.0} 10 {0, 1, 2, 3, 4, 5, 6, 7, 8, 9}\n",
      "keycount= dict_keys([0.0, 9.0, 5.0, 6.0, 8.0, 4.0, 3.0, 7.0, 1.0, 2.0])\n",
      "valuecount= dict_values([950, 9, 7, 9, 7, 5, 4, 4, 3, 2])\n",
      "32 3 64 1.0 0.0001 401 64 True True True 0 0.0 0.5 0 True 0.05 11 p p True 0.1 1 400 1.669427752494812 0.0 0.14 0.14 0.14 0.7887368421052632 0.13148418486850352 907 43 43 7\n",
      "\n",
      "data['y_test']= [0 1 2 3 4 5 6 7 8 9]\n",
      "insize= 900 outSize= 100\n",
      "data['y_test']= [0 1 2 3 4 5 6 7 8 9]\n",
      "insize= 0 outSize= 1000\n",
      " test...dataset[key_lbl]= {1.0, 2.0, 3.0, 4.0, 5.0, 6.0, 7.0, 8.0, 9.0} 9 {1, 2, 3, 4, 5, 6, 7, 8, 9}\n",
      "keycount= dict_keys([1.0, 3.0, 8.0, 5.0, 4.0, 7.0, 2.0, 6.0, 9.0])\n",
      "valuecount= dict_values([101, 116, 118, 98, 98, 110, 110, 131, 118])\n",
      "data['y_test']= [0 1 2 3 4 5 6 7 8 9]\n",
      "insize= 900 outSize= 100\n",
      " test...dataset[key_lbl]= {0.0, 1.0, 2.0, 3.0, 4.0, 5.0, 6.0, 7.0, 8.0, 9.0} 10 {0, 1, 2, 3, 4, 5, 6, 7, 8, 9}\n",
      "keycount= dict_keys([0.0, 4.0, 6.0, 1.0, 9.0, 5.0, 2.0, 8.0, 7.0, 3.0])\n",
      "valuecount= dict_values([900, 8, 18, 8, 11, 9, 8, 14, 12, 12])\n",
      "32 3 64 1.0 0.0001 401 64 True True True 0 0.0 0.5 0 True 0.1 11 p p True 0.05 2 400 1.5693691968917847 0.0 0.29 0.29 0.29 0.740311111111111 0.23262216240555877 829 71 71 29\n",
      "\n",
      "data['y_test']= [0 1 2 3 4 5 6 7 8 9]\n",
      "insize= 900 outSize= 100\n",
      "data['y_test']= [0 1 2 3 4 5 6 7 8 9]\n",
      "insize= 0 outSize= 1000\n",
      " test...dataset[key_lbl]= {1.0, 2.0, 3.0, 4.0, 5.0, 6.0, 7.0, 8.0, 9.0} 9 {1, 2, 3, 4, 5, 6, 7, 8, 9}\n",
      "keycount= dict_keys([1.0, 3.0, 8.0, 5.0, 4.0, 7.0, 2.0, 6.0, 9.0])\n",
      "valuecount= dict_values([101, 116, 118, 98, 98, 110, 110, 131, 118])\n",
      "data['y_test']= [0 1 2 3 4 5 6 7 8 9]\n",
      "insize= 900 outSize= 100\n",
      " test...dataset[key_lbl]= {0.0, 1.0, 2.0, 3.0, 4.0, 5.0, 6.0, 7.0, 8.0, 9.0} 10 {0, 1, 2, 3, 4, 5, 6, 7, 8, 9}\n",
      "keycount= dict_keys([0.0, 4.0, 6.0, 1.0, 9.0, 5.0, 2.0, 8.0, 7.0, 3.0])\n",
      "valuecount= dict_values([900, 8, 18, 8, 11, 9, 8, 14, 12, 12])\n",
      "32 3 64 1.0 0.0001 401 64 True True True 0 0.0 0.5 0 True 0.1 11 p p True 0.1 3 400 1.6705131530761719 0.0 0.29 0.29 0.29 0.7399222222222223 0.23259991125280607 829 71 71 29\n",
      "\n",
      "data['y_test']= [0 1 2 3 4 5 6 7 8 9]\n",
      "insize= 800 outSize= 200\n",
      "data['y_test']= [0 1 2 3 4 5 6 7 8 9]\n",
      "insize= 0 outSize= 1000\n",
      " test...dataset[key_lbl]= {1.0, 2.0, 3.0, 4.0, 5.0, 6.0, 7.0, 8.0, 9.0} 9 {1, 2, 3, 4, 5, 6, 7, 8, 9}\n",
      "keycount= dict_keys([1.0, 3.0, 8.0, 5.0, 4.0, 7.0, 2.0, 6.0, 9.0])\n",
      "valuecount= dict_values([101, 116, 118, 98, 98, 110, 110, 131, 118])\n",
      "data['y_test']= [0 1 2 3 4 5 6 7 8 9]\n",
      "insize= 800 outSize= 200\n",
      " test...dataset[key_lbl]= {0.0, 1.0, 2.0, 3.0, 4.0, 5.0, 6.0, 7.0, 8.0, 9.0} 10 {0, 1, 2, 3, 4, 5, 6, 7, 8, 9}\n",
      "keycount= dict_keys([0.0, 9.0, 4.0, 3.0, 2.0, 8.0, 6.0, 5.0, 7.0, 1.0])\n",
      "valuecount= dict_values([800, 24, 16, 20, 22, 31, 27, 21, 23, 16])\n",
      "32 3 64 1.0 0.0001 401 64 True True True 0 0.0 0.5 0 True 0.2 11 p p True 0.05 4 400 1.5659258365631104 0.0 0.415 0.415 0.415 0.705625 0.3539372104856893 683 117 117 83\n",
      "\n",
      "data['y_test']= [0 1 2 3 4 5 6 7 8 9]\n",
      "insize= 800 outSize= 200\n",
      "data['y_test']= [0 1 2 3 4 5 6 7 8 9]\n",
      "insize= 0 outSize= 1000\n",
      " test...dataset[key_lbl]= {1.0, 2.0, 3.0, 4.0, 5.0, 6.0, 7.0, 8.0, 9.0} 9 {1, 2, 3, 4, 5, 6, 7, 8, 9}\n",
      "keycount= dict_keys([1.0, 3.0, 8.0, 5.0, 4.0, 7.0, 2.0, 6.0, 9.0])\n",
      "valuecount= dict_values([101, 116, 118, 98, 98, 110, 110, 131, 118])\n",
      "data['y_test']= [0 1 2 3 4 5 6 7 8 9]\n",
      "insize= 800 outSize= 200\n",
      " test...dataset[key_lbl]= {0.0, 1.0, 2.0, 3.0, 4.0, 5.0, 6.0, 7.0, 8.0, 9.0} 10 {0, 1, 2, 3, 4, 5, 6, 7, 8, 9}\n",
      "keycount= dict_keys([0.0, 9.0, 4.0, 3.0, 2.0, 8.0, 6.0, 5.0, 7.0, 1.0])\n",
      "valuecount= dict_values([800, 24, 16, 20, 22, 31, 27, 21, 23, 16])\n",
      "32 3 64 1.0 0.0001 401 64 True True True 0 0.0 0.5 0 True 0.2 11 p p True 0.1 5 400 1.6722139120101929 0.0 0.41 0.41 0.41 0.7047500000000001 0.3534988319932745 682 118 118 82\n",
      "\n",
      "data['y_test']= [0 1 2 3 4 5 6 7 8 9]\n",
      "insize= 500 outSize= 500\n",
      "data['y_test']= [0 1 2 3 4 5 6 7 8 9]\n",
      "insize= 0 outSize= 1000\n",
      " test...dataset[key_lbl]= {1.0, 2.0, 3.0, 4.0, 5.0, 6.0, 7.0, 8.0, 9.0} 9 {1, 2, 3, 4, 5, 6, 7, 8, 9}\n",
      "keycount= dict_keys([1.0, 3.0, 8.0, 5.0, 4.0, 7.0, 2.0, 6.0, 9.0])\n",
      "valuecount= dict_values([101, 116, 118, 98, 98, 110, 110, 131, 118])\n",
      "data['y_test']= [0 1 2 3 4 5 6 7 8 9]\n",
      "insize= 500 outSize= 500\n",
      " test...dataset[key_lbl]= {0.0, 1.0, 2.0, 3.0, 4.0, 5.0, 6.0, 7.0, 8.0, 9.0} 10 {0, 1, 2, 3, 4, 5, 6, 7, 8, 9}\n",
      "keycount= dict_keys([0.0, 5.0, 3.0, 8.0, 6.0, 4.0, 2.0, 7.0, 1.0, 9.0])\n",
      "valuecount= dict_values([500, 60, 51, 60, 65, 47, 55, 53, 44, 65])\n",
      "32 3 64 1.0 0.0001 401 64 True True True 0 0.0 0.5 0 True 0.5 11 p p True 0.05 6 400 1.5682216882705688 0.0 0.666 0.666 0.666 0.714704 0.6744493803218508 333 167 167 333\n",
      "\n",
      "data['y_test']= [0 1 2 3 4 5 6 7 8 9]\n",
      "insize= 500 outSize= 500\n",
      "data['y_test']= [0 1 2 3 4 5 6 7 8 9]\n",
      "insize= 0 outSize= 1000\n",
      " test...dataset[key_lbl]= {1.0, 2.0, 3.0, 4.0, 5.0, 6.0, 7.0, 8.0, 9.0} 9 {1, 2, 3, 4, 5, 6, 7, 8, 9}\n",
      "keycount= dict_keys([1.0, 3.0, 8.0, 5.0, 4.0, 7.0, 2.0, 6.0, 9.0])\n",
      "valuecount= dict_values([101, 116, 118, 98, 98, 110, 110, 131, 118])\n",
      "data['y_test']= [0 1 2 3 4 5 6 7 8 9]\n",
      "insize= 500 outSize= 500\n",
      " test...dataset[key_lbl]= {0.0, 1.0, 2.0, 3.0, 4.0, 5.0, 6.0, 7.0, 8.0, 9.0} 10 {0, 1, 2, 3, 4, 5, 6, 7, 8, 9}\n",
      "keycount= dict_keys([0.0, 5.0, 3.0, 8.0, 6.0, 4.0, 2.0, 7.0, 1.0, 9.0])\n",
      "valuecount= dict_values([500, 60, 51, 60, 65, 47, 55, 53, 44, 65])\n",
      "32 3 64 1.0 0.0001 401 64 True True True 0 0.0 0.5 0 True 0.5 11 p p True 0.1 7 400 1.6696161031723022 0.0 0.668 0.668 0.668 0.71456 0.6743902174269333 334 166 166 334\n",
      "\n"
     ]
    }
   ],
   "source": [
    "combinations = [ args.copy() for i in range(2)]\n",
    "\n",
    "\n",
    "combinations[0]['conta'] = 0.05\n",
    "combinations[1]['conta'] = 0.1\n",
    "\n",
    "\n",
    "with open('output_wae_conta_cifar.csv','a+') as fout:\n",
    "    columns = list(args.keys()) + [\"run\",\"epoch\",\"loss\",\"advantageI\",\"precision\",\"recall\",\"F1\",\"AUC\",\"AUPRC\",\"tn\", \"fp\", \"fn\", \"tp\"]\n",
    "    fout.write(\";\".join(columns) + \"\\n\")\n",
    "    print(\" \".join(columns) + \"\\n\")\n",
    "    row = 0\n",
    "    \n",
    "    for outratio in [0.05,0.1,0.2,0.5]:\n",
    "        for seed in [11]:\n",
    "            for setting in combinations:\n",
    "                setting['seed'] = seed\n",
    "                setting['row'] = row\n",
    "                setting['outratio'] = outratio\n",
    "                values = cora.run(setting)\n",
    "                for v in values:\n",
    "                    allv = list(setting.values())  + list(v)\n",
    "                    strallv = list(map(str,allv))\n",
    "                    fout.write(\";\".join(strallv) + '\\n')\n",
    "                print(\" \".join(strallv) + '\\n')\n",
    "                row += 1\n",
    "                "
   ]
  },
  {
   "cell_type": "code",
   "execution_count": 4,
   "metadata": {},
   "outputs": [
    {
     "data": {
      "text/plain": [
       "8"
      ]
     },
     "execution_count": 4,
     "metadata": {},
     "output_type": "execute_result"
    }
   ],
   "source": [
    "row"
   ]
  },
  {
   "cell_type": "code",
   "execution_count": 5,
   "metadata": {},
   "outputs": [
    {
     "data": {
      "text/plain": [
       "8"
      ]
     },
     "execution_count": 5,
     "metadata": {},
     "output_type": "execute_result"
    }
   ],
   "source": [
    "row"
   ]
  },
  {
   "cell_type": "code",
   "execution_count": null,
   "metadata": {},
   "outputs": [],
   "source": []
  }
 ],
 "metadata": {
  "kernelspec": {
   "display_name": "Python 3",
   "language": "python",
   "name": "python3"
  },
  "language_info": {
   "codemirror_mode": {
    "name": "ipython",
    "version": 3
   },
   "file_extension": ".py",
   "mimetype": "text/x-python",
   "name": "python",
   "nbconvert_exporter": "python",
   "pygments_lexer": "ipython3",
   "version": "3.6.7"
  }
 },
 "nbformat": 4,
 "nbformat_minor": 2
}
