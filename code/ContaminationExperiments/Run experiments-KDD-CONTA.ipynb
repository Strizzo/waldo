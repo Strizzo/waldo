{
 "cells": [
  {
   "cell_type": "code",
   "execution_count": 1,
   "metadata": {},
   "outputs": [],
   "source": [
    "import numpy as np\n",
    "import waldo_conta_kdd as cora\n",
    "\n",
    "import warnings\n",
    "warnings.filterwarnings('ignore')"
   ]
  },
  {
   "cell_type": "code",
   "execution_count": 2,
   "metadata": {},
   "outputs": [],
   "source": [
    "args = dict()\n",
    "args['dim_h'] = 40         # factor controlling size of hidden layers\n",
    "args['n_channel'] = 3      # number of channels in the input data (MNIST = 1, greyscale)\n",
    "args['n_z'] = 32           # number of dimensions in latent space. \n",
    "args['sigma'] = 0.5        # variance in n_z\n",
    "args['lr'] = 0.0001        # learning rate for Adam optimizer\n",
    "args['epochs'] = 401       # how many epochs to run for\n",
    "args['batch_size'] = 1000   # batch size for SGD\n",
    "args['save'] = True       # save weights at each epoch of training if True\n",
    "args['train'] = True       # train networks if True, else load networks from saved weights\n",
    "\n",
    "args['scheduler'] = True   # use scheduler for learning rate or not\n",
    "args['inClass'] = 0        # set which is the class of the inliers\n",
    "\n",
    "args['subspace_reg']=0.0   # weight for subspace regularization, 0 if not applied\n",
    "args['wae']=0.1           # WAE-GAN discriminator lambda, 0 if not WAE\n",
    "args['lipschitz']=0        # Lipschitz penalty weight, 0 if not applied\n",
    "args['advantage']=True     # Advantage penalty \n",
    "\n",
    "args['outratio'] = 0.3     # outlier ration in unlabeled dataset\n",
    "args['seed'] = 11           # seed for randomness\n",
    "\n",
    "args['step1set'] = 'x'\n",
    "args['step2set'] = 'x'\n",
    "args['paramscloning'] = True\n",
    "args['conta'] = 0.05"
   ]
  },
  {
   "cell_type": "code",
   "execution_count": 3,
   "metadata": {},
   "outputs": [
    {
     "name": "stdout",
     "output_type": "stream",
     "text": [
      "dim_h n_channel n_z sigma lr epochs batch_size save train scheduler inClass subspace_reg wae lipschitz advantage outratio seed step1set step2set paramscloning conta run epoch loss advantageI precision recall F1 AUC AUPRC tn fp fn tp\n",
      "\n",
      "40 3 32 1.0 0.0001 401 2000 True True True 0 0.0 0.1 0 True 0.05 11 p p True 0.05 0 400 0.017231443896889687 0.00015041499864310026 0.1441106986162673 0.8822314049586777 0.24775166811720337 0.9944741330658367 0.7989746634068452 6675 2536 57 427\n",
      "\n",
      "40 3 32 0.5 0.0001 401 2000 True True True 0 0.1 0.0 0 True 0.05 11 x x True 0.05 1 400 0.005408140365034342 8.49427033244865e-06 0.16184677828513444 0.6590909090909091 0.259877800407332 0.9720010031125199 0.45208320510402344 7559 1652 165 319\n",
      "\n",
      "40 3 32 1.0 0.0001 401 2000 True True True 0 0.0 0.1 0 True 0.05 11 p p True 0.1 2 400 0.01980222575366497 0.0005353380111046135 0.4090909090909091 0.7252066115702479 0.5230998509687035 0.977140945384202 0.5065553116318762 8704 507 133 351\n",
      "\n",
      "40 3 32 0.5 0.0001 401 2000 True True True 0 0.1 0.0 0 True 0.05 11 x x True 0.1 3 400 0.007781325373798609 2.66425013251137e-06 0.10692279811525915 0.609504132231405 0.18193031144002467 0.9722084894901982 0.4517786689341467 6747 2464 189 295\n",
      "\n",
      "40 3 32 1.0 0.0001 401 2000 True True True 0 0.0 0.1 0 True 0.1 11 p p True 0.05 4 400 0.022182349115610123 2.4197506718337536e-05 0.27856365614798695 0.7925696594427245 0.41223832528180354 0.9912992664887468 0.8354328070421981 6737 1989 201 768\n",
      "\n",
      "40 3 32 0.5 0.0001 401 2000 True True True 0 0.1 0.0 0 True 0.1 11 x x True 0.05 5 400 0.006417208816856146 4.311741577112116e-06 0.44026682838083686 0.7492260061919505 0.5546218487394957 0.9741275908894265 0.6482987091056353 7803 923 243 726\n",
      "\n",
      "40 3 32 1.0 0.0001 401 2000 True True True 0 0.0 0.1 0 True 0.1 11 p p True 0.1 6 400 0.029549717903137207 -0.0004995899507775903 0.6285714285714286 0.7946336429308566 0.7019143117593436 0.9933997942639425 0.8762785673370447 8271 455 199 770\n",
      "\n",
      "40 3 32 0.5 0.0001 401 2000 True True True 0 0.1 0.0 0 True 0.1 11 x x True 0.1 7 400 0.008041206747293472 8.767015970079228e-06 0.23003614853762736 0.7223942208462333 0.34895314057826526 0.9729042442700568 0.6294845162302467 6383 2343 269 700\n",
      "\n",
      "40 3 32 1.0 0.0001 401 2000 True True True 0 0.0 0.1 0 True 0.2 11 p p True 0.05 8 400 0.020624317228794098 0.0009140684269368649 0.5185983827493261 0.9922640536358948 0.6811825101787927 0.9944564370600903 0.9522638278745768 5970 1786 15 1924\n",
      "\n",
      "40 3 32 0.5 0.0001 401 2000 True True True 0 0.1 0.0 0 True 0.2 11 x x True 0.05 9 400 0.006376679055392742 2.6470734155736864e-06 0.6583679114799447 0.9819494584837545 0.788242599875802 0.9740344429812743 0.7992926935128355 6768 988 35 1904\n",
      "\n",
      "40 3 32 1.0 0.0001 401 2000 True True True 0 0.0 0.1 0 True 0.2 11 p p True 0.1 10 400 0.022317368537187576 0.00028741511050611734 0.7958005249343832 0.7818463125322331 0.7887617065556711 0.9869095339787182 0.8774956359800713 7367 389 423 1516\n",
      "\n",
      "40 3 32 0.5 0.0001 401 2000 True True True 0 0.1 0.0 0 True 0.2 11 x x True 0.1 11 400 0.008167765103280544 -9.14005795493722e-07 0.4747411358644493 0.7802991232594121 0.5903238392508778 0.9705615124100962 0.7717606000824251 6082 1674 426 1513\n",
      "\n",
      "40 3 32 1.0 0.0001 401 2000 True True True 0 0.0 0.1 0 True 0.5 11 p p True 0.05 12 400 0.01853192038834095 1.109845470637083e-05 0.990335184042772 0.9933993399339934 0.9918648954793534 0.9916545065707065 0.9823062084478276 4801 47 32 4816\n",
      "\n",
      "40 3 32 0.5 0.0001 401 2000 True True True 0 0.1 0.0 0 True 0.5 11 x x True 0.05 13 400 0.00675406726077199 6.59382640151307e-05 0.9027804047664082 0.9845297029702971 0.9418845584607796 0.9745426391339629 0.9466925227494125 4334 514 75 4773\n",
      "\n",
      "40 3 32 1.0 0.0001 401 2000 True True True 0 0.0 0.1 0 True 0.5 11 p p True 0.1 14 400 0.02253294549882412 -0.00023399523342959583 0.9907478797224364 0.7951732673267327 0.8822519739100584 0.9844605206188937 0.9652658686788391 4812 36 993 3855\n",
      "\n",
      "40 3 32 0.5 0.0001 401 2000 True True True 0 0.1 0.0 0 True 0.5 11 x x True 0.1 15 400 0.00774728087708354 3.840184217551723e-05 0.8740842490842491 0.7875412541254125 0.8285590277777778 0.9691023364403272 0.9282721898798595 4298 550 1030 3818\n",
      "\n"
     ]
    }
   ],
   "source": [
    "combinations = [ args.copy() for i in range(4)]\n",
    "\n",
    "#combinations[0]['subspace_reg']=0.1\n",
    "#combinations[0]['wae']=0.0\n",
    "#combinations[0]['advantage']=False\n",
    "#combinations[0]['paramscloning']=False\n",
    "\n",
    "#combinations[0]['subspace_reg']=0.1\n",
    "#combinations[0]['wae']=0.0\n",
    "#combinations[0]['advantage']=True\n",
    "#combinations[0]['paramscloning']=True\n",
    "\n",
    "\n",
    "#combinations[2]['advantage']=False\n",
    "#combinations[2]['paramscloning']=False\n",
    "\n",
    "combinations[0]['step1set']='p'\n",
    "combinations[0]['step2set']='p'\n",
    "combinations[0]['wae'] = 0.1\n",
    "combinations[0]['sigma'] = 1.0\n",
    "combinations[0]['n_z'] = 32\n",
    "combinations[0]['batch_size'] = 2000\n",
    "combinations[0]['conta'] = 0.05\n",
    "\n",
    "combinations[1]['wae'] = 0.0\n",
    "combinations[1]['subspace_reg'] = 0.1\n",
    "combinations[1]['n_z'] = 32\n",
    "combinations[1]['batch_size'] = 2000\n",
    "combinations[1]['conta'] = 0.05\n",
    "\n",
    "combinations[2]['step1set']='p'\n",
    "combinations[2]['step2set']='p'\n",
    "combinations[2]['wae'] = 0.1\n",
    "combinations[2]['sigma'] = 1.0\n",
    "combinations[2]['n_z'] = 32\n",
    "combinations[2]['batch_size'] = 2000\n",
    "combinations[2]['conta'] = 0.1\n",
    "\n",
    "combinations[3]['wae'] = 0.0\n",
    "combinations[3]['subspace_reg'] = 0.1\n",
    "combinations[3]['n_z'] = 32\n",
    "combinations[3]['batch_size'] = 2000\n",
    "combinations[3]['conta'] = 0.1\n",
    "\n",
    "\n",
    "\n",
    "\n",
    "\n",
    "with open('output_conta_kdd.csv','a+') as fout:\n",
    "    columns = list(args.keys()) + [\"run\",\"epoch\",\"loss\",\"advantageI\",\"precision\",\"recall\",\"F1\",\"AUC\",\"AUPRC\",\"tn\", \"fp\", \"fn\", \"tp\"]\n",
    "    fout.write(\";\".join(columns) + \"\\n\")\n",
    "    print(\" \".join(columns) + \"\\n\")\n",
    "    row = 0\n",
    "    \n",
    "    for outratio in [0.05,0.1,0.2,0.5]:\n",
    "        for seed in [11]:\n",
    "            for setting in combinations:\n",
    "                setting['outratio'] = outratio\n",
    "                setting['inClass'] = 0\n",
    "                setting['seed'] = seed\n",
    "                setting['row'] = row\n",
    "                values = cora.run(setting)\n",
    "                for v in values:\n",
    "                    allv = list(setting.values())  + list(v)\n",
    "                    strallv = list(map(str,allv))\n",
    "                    fout.write(\";\".join(strallv) + '\\n')\n",
    "                print(\" \".join(strallv) + '\\n')\n",
    "                row += 1\n",
    "                "
   ]
  },
  {
   "cell_type": "code",
   "execution_count": 4,
   "metadata": {},
   "outputs": [
    {
     "data": {
      "text/plain": [
       "16"
      ]
     },
     "execution_count": 4,
     "metadata": {},
     "output_type": "execute_result"
    }
   ],
   "source": [
    "row"
   ]
  },
  {
   "cell_type": "code",
   "execution_count": null,
   "metadata": {},
   "outputs": [],
   "source": []
  }
 ],
 "metadata": {
  "kernelspec": {
   "display_name": "Python 3",
   "language": "python",
   "name": "python3"
  },
  "language_info": {
   "codemirror_mode": {
    "name": "ipython",
    "version": 3
   },
   "file_extension": ".py",
   "mimetype": "text/x-python",
   "name": "python",
   "nbconvert_exporter": "python",
   "pygments_lexer": "ipython3",
   "version": "3.6.7"
  }
 },
 "nbformat": 4,
 "nbformat_minor": 2
}
