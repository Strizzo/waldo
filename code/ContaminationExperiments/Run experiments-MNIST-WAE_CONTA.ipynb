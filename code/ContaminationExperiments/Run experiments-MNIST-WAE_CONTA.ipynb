{
 "cells": [
  {
   "cell_type": "code",
   "execution_count": 2,
   "metadata": {},
   "outputs": [],
   "source": [
    "import numpy as np\n",
    "import wae_conta_mnist as cora\n",
    "\n",
    "import warnings\n",
    "warnings.filterwarnings('ignore')"
   ]
  },
  {
   "cell_type": "code",
   "execution_count": 3,
   "metadata": {},
   "outputs": [],
   "source": [
    "args = dict()\n",
    "args['dim_h'] = 40         # factor controlling size of hidden layers\n",
    "args['n_channel'] = 1      # number of channels in the input data (MNIST = 1, greyscale)\n",
    "args['n_z'] = 20           # number of dimensions in latent space. \n",
    "args['sigma'] = 1.0        # variance in n_z\n",
    "args['lr'] = 0.0001        # learning rate for Adam optimizer\n",
    "args['epochs'] = 401       # how many epochs to run for\n",
    "args['batch_size'] = 2048   # batch size for SGD\n",
    "args['save'] = True       # save weights at each epoch of training if True\n",
    "args['train'] = True       # train networks if True, else load networks from saved weights\n",
    "\n",
    "args['scheduler'] = True   # use scheduler for learning rate or not\n",
    "args['inClass'] = 0        # set which is the class of the inliers\n",
    "\n",
    "args['subspace_reg']=0.0   # weight for subspace regularization, 0 if not applied\n",
    "args['wae']=0.5           # WAE-GAN discriminator lambda, 0 if not WAE\n",
    "args['lipschitz']=0        # Lipschitz penalty weight, 0 if not applied\n",
    "args['advantage']=True     # Advantage penalty \n",
    "\n",
    "args['outratio'] = 0.3     # outlier ration in unlabeled dataset\n",
    "args['seed'] = 2           # seed for randomness\n",
    "\n",
    "args['step1set'] = 'x'\n",
    "args['step2set'] = 'x'\n",
    "args['paramscloning'] = True\n",
    "\n",
    "args['conta']=0.05"
   ]
  },
  {
   "cell_type": "code",
   "execution_count": null,
   "metadata": {},
   "outputs": [
    {
     "name": "stdout",
     "output_type": "stream",
     "text": [
      "dim_h n_channel n_z sigma lr epochs batch_size save train scheduler inClass subspace_reg wae lipschitz advantage outratio seed step1set step2set paramscloning conta run epoch loss advantageI precision recall F1 AUC AUPRC tn fp fn tp\n",
      "\n",
      "40 1 20 1.0 0.0001 401 2048 True True True 0 0.0 0.5 0 True 0.05 11 x x True 0.05 0 400 0.020454738289117813 0.0 0.5576923076923077 0.5686274509803921 0.5631067961165048 0.9752448476837109 0.6243895562340177 956 23 22 29\n",
      "\n",
      "40 1 20 1.0 0.0001 401 2048 True True True 0 0.0 0.5 0 True 0.05 11 x x True 0.1 1 400 0.017107227817177773 0.0 0.21153846153846154 0.21568627450980393 0.21359223300970875 0.8443790182058523 0.2386152683946719 938 41 40 11\n",
      "\n",
      "40 1 20 1.0 0.0001 401 2048 True True True 0 0.0 0.5 0 True 0.1 11 x x True 0.05 2 400 0.018803153187036514 0.0 0.6407766990291263 0.6407766990291263 0.6407766990291263 0.9441145358762477 0.6782493215098166 890 37 37 66\n",
      "\n",
      "40 1 20 1.0 0.0001 401 2048 True True True 0 0.0 0.5 0 True 0.1 11 x x True 0.1 3 400 0.015978390350937843 0.0 0.3592233009708738 0.3592233009708738 0.3592233009708738 0.8028089358092186 0.33438408412449644 861 66 66 37\n",
      "\n",
      "40 1 20 1.0 0.0001 401 2048 True True True 0 0.0 0.5 0 True 0.2 11 x x True 0.05 4 400 0.018733158707618713 0.0 0.48058252427184467 0.48058252427184467 0.48058252427184467 0.8523953718540861 0.47288869791577326 717 107 107 99\n",
      "\n",
      "40 1 20 1.0 0.0001 401 2048 True True True 0 0.0 0.5 0 True 0.2 11 x x True 0.1 5 400 0.018263379111886024 0.0 0.5388349514563107 0.5388349514563107 0.5388349514563107 0.829831982279197 0.5410235983388253 729 95 95 111\n",
      "\n",
      "40 1 20 1.0 0.0001 401 2048 True True True 0 0.0 0.5 0 True 0.5 11 x x True 0.05 6 400 0.018123416230082512 0.0 0.6233009708737864 0.6233009708737864 0.6233009708737864 0.6901536431331887 0.7099068846126158 321 194 194 321\n",
      "\n"
     ]
    }
   ],
   "source": [
    "combinations = [ args.copy() for i in range(2)]\n",
    "\n",
    "\n",
    "combinations[0]['sigma']=1.0\n",
    "combinations[0]['wae']=0.5\n",
    "combinations[0]['conta']=0.05\n",
    "\n",
    "combinations[1]['sigma']=1.0\n",
    "combinations[1]['wae']=0.5\n",
    "combinations[1]['conta']=0.1\n",
    "\n",
    "\n",
    "\n",
    "\n",
    "with open('output_MNIST_WAE_CONTA.csv','a+') as fout:\n",
    "    columns = list(args.keys()) + [\"run\",\"epoch\",\"loss\",\"advantageI\",\"precision\",\"recall\",\"F1\",\"AUC\",\"AUPRC\",\"tn\", \"fp\", \"fn\", \"tp\"]\n",
    "    fout.write(\";\".join(columns) + \"\\n\")\n",
    "    print(\" \".join(columns) + \"\\n\")\n",
    "    row = 0\n",
    "    \n",
    "    for outratio in [0.05,0.1,0.2,0.5]:\n",
    "        for setting in combinations:\n",
    "            for seed in [11]:\n",
    "                setting['outratio'] = outratio\n",
    "                setting['seed'] = seed\n",
    "                setting['row'] = row\n",
    "                values = cora.run(setting)\n",
    "                for v in values:\n",
    "                    allv = list(setting.values())  + list(v)\n",
    "                    strallv = list(map(str,allv))\n",
    "                    fout.write(\";\".join(strallv) + '\\n')\n",
    "                print(\" \".join(strallv) + '\\n')\n",
    "                row += 1\n",
    "                "
   ]
  },
  {
   "cell_type": "code",
   "execution_count": null,
   "metadata": {},
   "outputs": [],
   "source": [
    "row"
   ]
  },
  {
   "cell_type": "code",
   "execution_count": null,
   "metadata": {},
   "outputs": [],
   "source": []
  }
 ],
 "metadata": {
  "kernelspec": {
   "display_name": "Python 3",
   "language": "python",
   "name": "python3"
  },
  "language_info": {
   "codemirror_mode": {
    "name": "ipython",
    "version": 3
   },
   "file_extension": ".py",
   "mimetype": "text/x-python",
   "name": "python",
   "nbconvert_exporter": "python",
   "pygments_lexer": "ipython3",
   "version": "3.6.7"
  }
 },
 "nbformat": 4,
 "nbformat_minor": 2
}
