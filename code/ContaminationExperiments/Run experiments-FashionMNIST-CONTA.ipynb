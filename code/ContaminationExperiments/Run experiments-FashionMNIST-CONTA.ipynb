{
 "cells": [
  {
   "cell_type": "code",
   "execution_count": 1,
   "metadata": {},
   "outputs": [],
   "source": [
    "import numpy as np\n",
    "import waldo_conta_fmnist as cora\n",
    "\n",
    "import warnings\n",
    "warnings.filterwarnings('ignore')"
   ]
  },
  {
   "cell_type": "code",
   "execution_count": 2,
   "metadata": {},
   "outputs": [],
   "source": [
    "args = dict()\n",
    "args['dim_h'] = 40         # factor controlling size of hidden layers\n",
    "args['n_channel'] = 1      # number of channels in the input data (MNIST = 1, greyscale)\n",
    "args['n_z'] = 10           # number of dimensions in latent space. \n",
    "args['sigma'] = 0.5        # variance in n_z\n",
    "args['lr'] = 0.0001        # learning rate for Adam optimizer\n",
    "args['epochs'] = 401       # how many epochs to run for\n",
    "args['batch_size'] = 2048   # batch size for SGD\n",
    "args['save'] = True       # save weights at each epoch of training if True\n",
    "args['train'] = True       # train networks if True, else load networks from saved weights\n",
    "\n",
    "args['scheduler'] = True   # use scheduler for learning rate or not\n",
    "args['inClass'] = 0        # set which is the class of the inliers\n",
    "\n",
    "args['subspace_reg']=0.0   # weight for subspace regularization, 0 if not applied\n",
    "args['wae']=0.5           # WAE-GAN discriminator lambda, 0 if not WAE\n",
    "args['lipschitz']=0        # Lipschitz penalty weight, 0 if not applied\n",
    "args['advantage']=True     # Advantage penalty \n",
    "\n",
    "args['outratio'] = 0.3     # outlier ration in unlabeled dataset\n",
    "args['seed'] = 2           # seed for randomness\n",
    "\n",
    "args['step1set'] = 'x'\n",
    "args['step2set'] = 'x'\n",
    "args['paramscloning'] = True\n",
    "args['conta'] = 0.05"
   ]
  },
  {
   "cell_type": "code",
   "execution_count": 3,
   "metadata": {
    "scrolled": false
   },
   "outputs": [
    {
     "name": "stdout",
     "output_type": "stream",
     "text": [
      "dim_h n_channel n_z sigma lr epochs batch_size save train scheduler inClass subspace_reg wae lipschitz advantage outratio seed step1set step2set paramscloning conta run epoch loss advantageI precision recall F1 AUC AUPRC tn fp fn tp\n",
      "\n",
      "40 1 10 0.5 0.0001 401 2048 True True True 0 0.0 0.5 0 True 0.05 11 p u True 0.1 0 400 0.028639517724514008 0.0006683873943984509 0.2903225806451613 0.6923076923076923 0.4090909090909091 0.8874066374066375 0.4310853015804178 911 88 16 36\n",
      "\n",
      "40 1 10 0.5 0.0001 401 2048 True True True 0 0.1 0.0 0 True 0.05 11 x x True 0.1 1 400 0.02043675258755684 -0.0001253040973097086 0.3364485981308411 0.6923076923076923 0.45283018867924524 0.8785708785708786 0.4453332164316645 928 71 16 36\n",
      "\n",
      "40 1 10 0.5 0.0001 401 2048 True True True 0 0.0 0.5 0 True 0.1 11 p u True 0.1 2 400 0.030596492812037468 0.0014352179132401943 0.475 0.7238095238095238 0.5735849056603773 0.9015101177891875 0.6630575330533515 862 84 29 76\n",
      "\n",
      "40 1 10 0.5 0.0001 401 2048 True True True 0 0.1 0.0 0 True 0.1 11 x x True 0.1 3 400 0.020182915031909943 0.0006794168148189783 0.4934210526315789 0.7142857142857143 0.5836575875486382 0.878274438739555 0.6232444653048037 869 77 30 75\n",
      "\n",
      "40 1 10 0.5 0.0001 401 2048 True True True 0 0.0 0.5 0 True 0.2 11 p u True 0.1 4 400 0.029695002362132072 0.000903191277757287 0.6995305164319249 0.7095238095238096 0.7044917257683215 0.8953909744635071 0.7580051990827728 777 64 61 149\n",
      "\n",
      "40 1 10 0.5 0.0001 401 2048 True True True 0 0.1 0.0 0 True 0.2 11 x x True 0.1 5 400 0.020225364714860916 7.659615948796272e-05 0.7142857142857143 0.7142857142857143 0.7142857142857143 0.865245456089689 0.7254450340544921 781 60 60 150\n",
      "\n",
      "40 1 10 0.5 0.0001 401 2048 True True True 0 0.0 0.5 0 True 0.5 11 p u True 0.1 6 400 0.033484719693660736 0.0002497641835361719 0.8687782805429864 0.7300380228136882 0.7933884297520661 0.8754680564992988 0.8881203771091546 468 58 142 384\n",
      "\n",
      "40 1 10 0.5 0.0001 401 2048 True True True 0 0.1 0.0 0 True 0.5 11 x x True 0.1 7 400 0.021137993782758713 0.000855388818308711 0.8651685393258427 0.7319391634980988 0.7929969104016478 0.8463834954965375 0.8749910677843704 466 60 141 385\n",
      "\n"
     ]
    }
   ],
   "source": [
    "combinations = [ args.copy() for i in range(2)]\n",
    "\n",
    "combinations[0]['step1set']='p'\n",
    "combinations[0]['step2set']='u'\n",
    "combinations[0]['wae']=0.5\n",
    "combinations[0]['sigma']=0.5\n",
    "combinations[0]['conta']=0.1\n",
    "\n",
    "combinations[1]['wae']=0.0\n",
    "combinations[1]['subspace_reg']=0.1\n",
    "combinations[1]['conta']=0.1\n",
    "\n",
    "\n",
    "with open('output_conta_FMNIST.csv','a+') as fout:\n",
    "    columns = list(args.keys()) + [\"run\",\"epoch\",\"loss\",\"advantageI\",\"precision\",\"recall\",\"F1\",\"AUC\",\"AUPRC\",\"tn\", \"fp\", \"fn\", \"tp\"]\n",
    "    fout.write(\";\".join(columns) + \"\\n\")\n",
    "    print(\" \".join(columns) + \"\\n\")\n",
    "    row = 0\n",
    "    \n",
    "    for outratio in [0.05,0.1,0.2,0.5]:\n",
    "        for setting in combinations:\n",
    "            for seed in [11]:\n",
    "                setting['outratio'] = outratio\n",
    "                setting['seed'] = seed\n",
    "                setting['row'] = row\n",
    "                values = cora.run(setting)\n",
    "                for v in values:\n",
    "                    allv = list(setting.values())  + list(v)\n",
    "                    strallv = list(map(str,allv))\n",
    "                    fout.write(\";\".join(strallv) + '\\n')\n",
    "                print(\" \".join(strallv) + '\\n')\n",
    "                row += 1\n",
    "                "
   ]
  },
  {
   "cell_type": "code",
   "execution_count": null,
   "metadata": {},
   "outputs": [],
   "source": []
  }
 ],
 "metadata": {
  "kernelspec": {
   "display_name": "Python 3",
   "language": "python",
   "name": "python3"
  },
  "language_info": {
   "codemirror_mode": {
    "name": "ipython",
    "version": 3
   },
   "file_extension": ".py",
   "mimetype": "text/x-python",
   "name": "python",
   "nbconvert_exporter": "python",
   "pygments_lexer": "ipython3",
   "version": "3.6.7"
  }
 },
 "nbformat": 4,
 "nbformat_minor": 2
}
