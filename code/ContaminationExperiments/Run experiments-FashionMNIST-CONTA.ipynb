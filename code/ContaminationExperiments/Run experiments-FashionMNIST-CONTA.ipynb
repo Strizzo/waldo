{
 "cells": [
  {
   "cell_type": "code",
   "execution_count": null,
   "metadata": {},
   "outputs": [],
   "source": [
    "import numpy as np\n",
    "import waldo_conta_fmnist as model\n",
    "\n",
    "import warnings\n",
    "warnings.filterwarnings('ignore')"
   ]
  },
  {
   "cell_type": "code",
   "execution_count": null,
   "metadata": {},
   "outputs": [],
   "source": [
    "args = dict()\n",
    "args['dim_h'] = 40         # factor controlling size of hidden layers\n",
    "args['n_channel'] = 1      # number of channels in the input data (MNIST = 1, greyscale)\n",
    "args['n_z'] = 10           # number of dimensions in latent space. \n",
    "args['sigma'] = 0.5        # variance in n_z\n",
    "args['lr'] = 0.0001        # learning rate for Adam optimizer\n",
    "args['epochs'] = 401       # how many epochs to run for\n",
    "args['batch_size'] = 2048   # batch size for SGD\n",
    "args['save'] = True       # save weights at each epoch of training if True\n",
    "args['train'] = True       # train networks if True, else load networks from saved weights\n",
    "\n",
    "args['scheduler'] = True   # use scheduler for learning rate or not\n",
    "args['inClass'] = 0        # set which is the class of the inliers\n",
    "\n",
    "args['subspace_reg']=0.0   # weight for subspace regularization, 0 if not applied\n",
    "args['wae']=0.5           # WAE-GAN discriminator lambda, 0 if not WAE\n",
    "args['lipschitz']=0        # Lipschitz penalty weight, 0 if not applied\n",
    "args['advantage']=True     # Advantage penalty \n",
    "\n",
    "args['outratio'] = 0.3     # outlier ration in unlabeled dataset\n",
    "args['seed'] = 2           # seed for randomness\n",
    "\n",
    "args['step1set'] = 'x'\n",
    "args['step2set'] = 'x'\n",
    "args['paramscloning'] = True\n",
    "args['conta'] = 0.05"
   ]
  },
  {
   "cell_type": "code",
   "execution_count": null,
   "metadata": {
    "scrolled": false
   },
   "outputs": [],
   "source": [
    "combinations = [ args.copy() for i in range(2)]\n",
    "\n",
    "combinations[0]['step1set']='p'\n",
    "combinations[0]['step2set']='u'\n",
    "combinations[0]['wae']=0.5\n",
    "combinations[0]['sigma']=0.5\n",
    "combinations[0]['conta']=0.1\n",
    "\n",
    "combinations[1]['wae']=0.0\n",
    "combinations[1]['subspace_reg']=0.1\n",
    "combinations[1]['conta']=0.1\n",
    "\n",
    "\n",
    "with open('output_conta_FMNIST.csv','a+') as fout:\n",
    "    columns = list(args.keys()) + [\"run\",\"epoch\",\"loss\",\"advantageI\",\"precision\",\"recall\",\"F1\",\"AUC\",\"AUPRC\",\"tn\", \"fp\", \"fn\", \"tp\"]\n",
    "    fout.write(\";\".join(columns) + \"\\n\")\n",
    "    print(\" \".join(columns) + \"\\n\")\n",
    "    row = 0\n",
    "    \n",
    "    for outratio in [0.05,0.1,0.2,0.5]:\n",
    "        for setting in combinations:\n",
    "            for seed in [11]:\n",
    "                setting['outratio'] = outratio\n",
    "                setting['seed'] = seed\n",
    "                setting['row'] = row\n",
    "                values = model.run(setting)\n",
    "                for v in values:\n",
    "                    allv = list(setting.values())  + list(v)\n",
    "                    strallv = list(map(str,allv))\n",
    "                    fout.write(\";\".join(strallv) + '\\n')\n",
    "                print(\" \".join(strallv) + '\\n')\n",
    "                row += 1\n",
    "                "
   ]
  },
  {
   "cell_type": "code",
   "execution_count": null,
   "metadata": {},
   "outputs": [],
   "source": []
  }
 ],
 "metadata": {
  "kernelspec": {
   "display_name": "Python 3",
   "language": "python",
   "name": "python3"
  },
  "language_info": {
   "codemirror_mode": {
    "name": "ipython",
    "version": 3
   },
   "file_extension": ".py",
   "mimetype": "text/x-python",
   "name": "python",
   "nbconvert_exporter": "python",
   "pygments_lexer": "ipython3",
   "version": "3.7.4"
  }
 },
 "nbformat": 4,
 "nbformat_minor": 2
}
