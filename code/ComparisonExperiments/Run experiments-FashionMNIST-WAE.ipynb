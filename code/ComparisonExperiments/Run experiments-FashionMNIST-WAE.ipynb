{
 "cells": [
  {
   "cell_type": "code",
   "execution_count": 3,
   "metadata": {},
   "outputs": [],
   "source": [
    "import numpy as np\n",
    "import wae_fmnist as model\n",
    "\n",
    "import warnings\n",
    "warnings.filterwarnings('ignore')"
   ]
  },
  {
   "cell_type": "code",
   "execution_count": 4,
   "metadata": {},
   "outputs": [],
   "source": [
    "args = dict()\n",
    "args['dim_h'] = 40         # factor controlling size of hidden layers\n",
    "args['n_channel'] = 1      # number of channels in the input data (MNIST = 1, greyscale)\n",
    "args['n_z'] = 10           # number of dimensions in latent space. \n",
    "args['sigma'] = 0.5        # variance in n_z\n",
    "args['lr'] = 0.0001        # learning rate for Adam optimizer\n",
    "args['epochs'] = 401       # how many epochs to run for\n",
    "args['batch_size'] = 2048   # batch size for SGD\n",
    "args['save'] = True       # save weights at each epoch of training if True\n",
    "args['train'] = True       # train networks if True, else load networks from saved weights\n",
    "\n",
    "args['scheduler'] = True   # use scheduler for learning rate or not\n",
    "args['inClass'] = 0        # set which is the class of the inliers\n",
    "\n",
    "args['subspace_reg']=0.0   # weight for subspace regularization, 0 if not applied\n",
    "args['wae']=0.5           # WAE-GAN discriminator lambda, 0 if not WAE\n",
    "args['lipschitz']=0        # Lipschitz penalty weight, 0 if not applied\n",
    "args['advantage']=True     # Advantage penalty \n",
    "\n",
    "args['outratio'] = 0.3     # outlier ration in unlabeled dataset\n",
    "args['seed'] = 2           # seed for randomness\n",
    "\n",
    "args['step1set'] = 'p'\n",
    "args['step2set'] = 'p'\n",
    "args['paramscloning'] = True"
   ]
  },
  {
   "cell_type": "code",
   "execution_count": 5,
   "metadata": {},
   "outputs": [
    {
     "name": "stdout",
     "output_type": "stream",
     "text": [
      "dim_h n_channel n_z sigma lr epochs batch_size save train scheduler inClass subspace_reg wae lipschitz advantage outratio seed step1set step2set paramscloning run epoch loss advantageI precision recall F1 AUC AUPRC tn fp fn tp\n",
      "\n",
      "40 1 10 0.5 0.0001 401 2048 True True True 0 0.0 0.5 0 True 0.05 11 p p True 0 400 0.016999676823616028 0.0 0.37735849056603776 0.38461538461538464 0.38095238095238093 0.906983906983907 0.37766794374238155 966 33 32 20\n",
      "\n",
      "40 1 10 0.5 0.0001 401 2048 True True True 0 0.0 0.5 0 True 0.05 12 p p True 1 400 0.015739234164357185 0.0 0.41509433962264153 0.4230769230769231 0.4190476190476191 0.9103526603526604 0.43948715323102644 968 31 30 22\n",
      "\n",
      "40 1 10 0.5 0.0001 401 2048 True True True 0 0.0 0.5 0 True 0.05 13 p p True 2 400 0.016396842896938324 0.0 0.3584905660377358 0.36538461538461536 0.3619047619047619 0.900997150997151 0.3044358169429269 965 34 33 19\n",
      "\n",
      "40 1 10 0.5 0.0001 401 2048 True True True 0 0.0 0.5 0 True 0.05 14 p p True 3 400 0.014920535497367382 0.0 0.4339622641509434 0.4423076923076923 0.4380952380952381 0.9016324016324015 0.37489845397556393 969 30 29 23\n",
      "\n",
      "40 1 10 0.5 0.0001 401 2048 True True True 0 0.0 0.5 0 True 0.1 11 p p True 4 400 0.01715635508298874 0.0 0.5754716981132075 0.580952380952381 0.5781990521327014 0.9200342293365549 0.6225955249941814 901 45 44 61\n",
      "\n",
      "40 1 10 0.5 0.0001 401 2048 True True True 0 0.0 0.5 0 True 0.1 12 p p True 5 400 0.01622875966131687 0.0 0.5849056603773585 0.5904761904761905 0.5876777251184834 0.9114265579381859 0.5905745866881755 902 44 43 62\n",
      "\n",
      "40 1 10 0.5 0.0001 401 2048 True True True 0 0.0 0.5 0 True 0.1 13 p p True 6 400 0.016183573752641678 0.0 0.5943396226415094 0.6 0.5971563981042655 0.9089600322158462 0.5583572561836423 903 43 42 63\n",
      "\n",
      "40 1 10 0.5 0.0001 401 2048 True True True 0 0.0 0.5 0 True 0.1 14 p p True 7 400 0.014942080713808537 0.0 0.5754716981132075 0.580952380952381 0.5781990521327014 0.9111245343803483 0.5982476826056244 901 45 44 61\n",
      "\n",
      "40 1 10 0.5 0.0001 401 2048 True True True 0 0.0 0.5 0 True 0.2 11 p p True 8 400 0.017421958968043327 0.0 0.6872037914691943 0.6904761904761905 0.6888361045130642 0.9156729517014891 0.7508614083617579 775 66 65 145\n",
      "\n",
      "40 1 10 0.5 0.0001 401 2048 True True True 0 0.0 0.5 0 True 0.2 12 p p True 9 400 0.01625092513859272 0.0 0.6777251184834123 0.680952380952381 0.6793349168646081 0.9138157522224111 0.7354060678416828 773 68 67 143\n",
      "\n",
      "40 1 10 0.5 0.0001 401 2048 True True True 0 0.0 0.5 0 True 0.2 13 p p True 10 400 0.01616477780044079 0.0 0.6587677725118484 0.6619047619047619 0.660332541567696 0.9058433837268557 0.6954252493240105 769 72 71 139\n",
      "\n",
      "40 1 10 0.5 0.0001 401 2048 True True True 0 0.0 0.5 0 True 0.2 14 p p True 11 400 0.015022342093288898 0.0 0.6682464454976303 0.6714285714285714 0.669833729216152 0.9083121001075817 0.7233708698066383 771 70 69 141\n",
      "\n",
      "40 1 10 0.5 0.0001 401 2048 True True True 0 0.0 0.5 0 True 0.5 11 p p True 12 400 0.01647721230983734 0.0 0.8155893536121673 0.8155893536121673 0.8155893536121673 0.8882989489511197 0.8898688399354662 429 97 97 429\n",
      "\n",
      "40 1 10 0.5 0.0001 401 2048 True True True 0 0.0 0.5 0 True 0.5 12 p p True 13 400 0.016057796776294708 0.0 0.8403041825095057 0.8403041825095057 0.8403041825095057 0.9080115369601989 0.8993387020533028 442 84 84 442\n",
      "\n",
      "40 1 10 0.5 0.0001 401 2048 True True True 0 0.0 0.5 0 True 0.5 13 p p True 14 400 0.015901565551757812 0.0 0.8269961977186312 0.8269961977186312 0.8269961977186312 0.8945083780306207 0.8871922650843475 435 91 91 435\n",
      "\n",
      "40 1 10 0.5 0.0001 401 2048 True True True 0 0.0 0.5 0 True 0.5 14 p p True 15 400 0.01442023180425167 0.0 0.8079847908745247 0.8079847908745247 0.8079847908745247 0.8814570110887825 0.8735626453399855 425 101 101 425\n",
      "\n"
     ]
    }
   ],
   "source": [
    "combinations = [ args.copy() for i in range(1)]\n",
    "\n",
    "\n",
    "with open('output_wae_FMNIST_PP.csv','a+') as fout:\n",
    "    columns = list(args.keys()) + [\"run\",\"epoch\",\"loss\",\"advantageI\",\"precision\",\"recall\",\"F1\",\"AUC\",\"AUPRC\",\"tn\", \"fp\", \"fn\", \"tp\"]\n",
    "    fout.write(\";\".join(columns) + \"\\n\")\n",
    "    print(\" \".join(columns) + \"\\n\")\n",
    "    row = 0\n",
    "    \n",
    "    for outratio in [0.05,0.1,0.2,0.5]:\n",
    "        for setting in combinations:\n",
    "            for seed in range(11,15):\n",
    "                setting['outratio'] = outratio\n",
    "                setting['seed'] = seed\n",
    "                setting['row'] = row\n",
    "                values = model.run(setting)\n",
    "                for v in values:\n",
    "                    allv = list(setting.values())  + list(v)\n",
    "                    strallv = list(map(str,allv))\n",
    "                    fout.write(\";\".join(strallv) + '\\n')\n",
    "                print(\" \".join(strallv) + '\\n')\n",
    "                row += 1\n",
    "                "
   ]
  },
  {
   "cell_type": "code",
   "execution_count": null,
   "metadata": {},
   "outputs": [],
   "source": []
  }
 ],
 "metadata": {
  "kernelspec": {
   "display_name": "Python 3",
   "language": "python",
   "name": "python3"
  },
  "language_info": {
   "codemirror_mode": {
    "name": "ipython",
    "version": 3
   },
   "file_extension": ".py",
   "mimetype": "text/x-python",
   "name": "python",
   "nbconvert_exporter": "python",
   "pygments_lexer": "ipython3",
   "version": "3.7.4"
  }
 },
 "nbformat": 4,
 "nbformat_minor": 2
}
