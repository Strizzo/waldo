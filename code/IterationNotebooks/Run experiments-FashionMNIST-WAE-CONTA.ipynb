{
 "cells": [
  {
   "cell_type": "code",
   "execution_count": 1,
   "metadata": {},
   "outputs": [],
   "source": [
    "import numpy as np\n",
    "import wae_conta_fmnist as cora\n",
    "\n",
    "import warnings\n",
    "warnings.filterwarnings('ignore')"
   ]
  },
  {
   "cell_type": "code",
   "execution_count": 2,
   "metadata": {},
   "outputs": [],
   "source": [
    "args = dict()\n",
    "args['dim_h'] = 40         # factor controlling size of hidden layers\n",
    "args['n_channel'] = 1      # number of channels in the input data (MNIST = 1, greyscale)\n",
    "args['n_z'] = 10           # number of dimensions in latent space. \n",
    "args['sigma'] = 0.5        # variance in n_z\n",
    "args['lr'] = 0.0001        # learning rate for Adam optimizer\n",
    "args['epochs'] = 401       # how many epochs to run for\n",
    "args['batch_size'] = 2048   # batch size for SGD\n",
    "args['save'] = True       # save weights at each epoch of training if True\n",
    "args['train'] = True       # train networks if True, else load networks from saved weights\n",
    "\n",
    "args['scheduler'] = True   # use scheduler for learning rate or not\n",
    "args['inClass'] = 0        # set which is the class of the inliers\n",
    "\n",
    "args['subspace_reg']=0.0   # weight for subspace regularization, 0 if not applied\n",
    "args['wae']=0.5           # WAE-GAN discriminator lambda, 0 if not WAE\n",
    "args['lipschitz']=0        # Lipschitz penalty weight, 0 if not applied\n",
    "args['advantage']=True     # Advantage penalty \n",
    "\n",
    "args['outratio'] = 0.3     # outlier ration in unlabeled dataset\n",
    "args['seed'] = 2           # seed for randomness\n",
    "\n",
    "args['step1set'] = 'p'\n",
    "args['step2set'] = 'p'\n",
    "args['paramscloning'] = True\n",
    "args['conta'] = 0.05"
   ]
  },
  {
   "cell_type": "code",
   "execution_count": 3,
   "metadata": {},
   "outputs": [
    {
     "name": "stdout",
     "output_type": "stream",
     "text": [
      "dim_h n_channel n_z sigma lr epochs batch_size save train scheduler inClass subspace_reg wae lipschitz advantage outratio seed step1set step2set paramscloning conta run epoch loss advantageI precision recall F1 AUC AUPRC tn fp fn tp\n",
      "\n",
      "40 1 10 0.5 0.0001 401 2048 True True True 0 0.0 0.5 0 True 0.05 11 p p True 0.05 0 400 0.0178509708493948 0.0 0.22641509433962265 0.23076923076923078 0.22857142857142856 0.8812273812273812 0.22568333553503062 958 41 40 12\n",
      "\n",
      "40 1 10 0.5 0.0001 401 2048 True True True 0 0.0 0.5 0 True 0.05 11 p p True 0.1 1 400 0.017527930438518524 0.0 0.18867924528301888 0.19230769230769232 0.19047619047619047 0.8422845922845923 0.17686601655083084 956 43 42 10\n",
      "\n",
      "40 1 10 0.5 0.0001 401 2048 True True True 0 0.0 0.5 0 True 0.1 11 p p True 0.05 2 400 0.019352395087480545 0.0 0.4528301886792453 0.45714285714285713 0.4549763033175355 0.886298197926105 0.3979864425500677 888 58 57 48\n",
      "\n",
      "40 1 10 0.5 0.0001 401 2048 True True True 0 0.0 0.5 0 True 0.1 11 p p True 0.1 3 400 0.0175095833837986 0.0 0.33962264150943394 0.34285714285714286 0.34123222748815163 0.8323567904963254 0.2992462854768279 876 70 69 36\n",
      "\n",
      "40 1 10 0.5 0.0001 401 2048 True True True 0 0.0 0.5 0 True 0.2 11 p p True 0.05 4 400 0.0182627085596323 0.0 0.6540284360189573 0.6571428571428571 0.6555819477434679 0.8924069984712077 0.6236519283366746 768 73 72 138\n",
      "\n",
      "40 1 10 0.5 0.0001 401 2048 True True True 0 0.0 0.5 0 True 0.2 11 p p True 0.1 5 400 0.017452821135520935 0.0 0.5213270142180095 0.5238095238095238 0.5225653206650831 0.8503935224505974 0.4822022574477472 740 101 100 110\n",
      "\n",
      "40 1 10 0.5 0.0001 401 2048 True True True 0 0.0 0.5 0 True 0.5 11 p p True 0.05 6 400 0.01840665377676487 0.0 0.8136882129277566 0.8136882129277566 0.8136882129277566 0.8867953852159205 0.8544987053572907 428 98 98 428\n",
      "\n",
      "40 1 10 0.5 0.0001 401 2048 True True True 0 0.0 0.5 0 True 0.5 11 p p True 0.1 7 400 0.017651380971074104 0.0 0.779467680608365 0.779467680608365 0.779467680608365 0.8487834145354133 0.8080943803713195 410 116 116 410\n",
      "\n"
     ]
    }
   ],
   "source": [
    "combinations = [ args.copy() for i in range(2)]\n",
    "\n",
    "\n",
    "combinations[0]['conta'] = 0.05\n",
    "\n",
    "combinations[1]['conta'] = 0.1\n",
    "\n",
    "with open('output_wae_conta_FMNIST.csv','a+') as fout:\n",
    "    columns = list(args.keys()) + [\"run\",\"epoch\",\"loss\",\"advantageI\",\"precision\",\"recall\",\"F1\",\"AUC\",\"AUPRC\",\"tn\", \"fp\", \"fn\", \"tp\"]\n",
    "    fout.write(\";\".join(columns) + \"\\n\")\n",
    "    print(\" \".join(columns) + \"\\n\")\n",
    "    row = 0\n",
    "    \n",
    "    for outratio in [0.05,0.1,0.2,0.5]:\n",
    "        for setting in combinations:\n",
    "            for seed in [11]:\n",
    "                setting['outratio'] = outratio\n",
    "                setting['seed'] = seed\n",
    "                setting['row'] = row\n",
    "                values = cora.run(setting)\n",
    "                for v in values:\n",
    "                    allv = list(setting.values())  + list(v)\n",
    "                    strallv = list(map(str,allv))\n",
    "                    fout.write(\";\".join(strallv) + '\\n')\n",
    "                print(\" \".join(strallv) + '\\n')\n",
    "                row += 1\n",
    "                "
   ]
  },
  {
   "cell_type": "code",
   "execution_count": null,
   "metadata": {},
   "outputs": [],
   "source": []
  }
 ],
 "metadata": {
  "kernelspec": {
   "display_name": "Python 3",
   "language": "python",
   "name": "python3"
  },
  "language_info": {
   "codemirror_mode": {
    "name": "ipython",
    "version": 3
   },
   "file_extension": ".py",
   "mimetype": "text/x-python",
   "name": "python",
   "nbconvert_exporter": "python",
   "pygments_lexer": "ipython3",
   "version": "3.6.7"
  }
 },
 "nbformat": 4,
 "nbformat_minor": 2
}
