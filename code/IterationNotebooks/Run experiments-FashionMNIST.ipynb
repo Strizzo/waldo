{
 "cells": [
  {
   "cell_type": "code",
   "execution_count": 1,
   "metadata": {},
   "outputs": [],
   "source": [
    "import numpy as np\n",
    "import cora_fmnist as cora\n",
    "\n",
    "import warnings\n",
    "warnings.filterwarnings('ignore')"
   ]
  },
  {
   "cell_type": "code",
   "execution_count": 2,
   "metadata": {},
   "outputs": [],
   "source": [
    "args = dict()\n",
    "args['dim_h'] = 40         # factor controlling size of hidden layers\n",
    "args['n_channel'] = 1      # number of channels in the input data (MNIST = 1, greyscale)\n",
    "args['n_z'] = 10           # number of dimensions in latent space. \n",
    "args['sigma'] = 0.5        # variance in n_z\n",
    "args['lr'] = 0.0001        # learning rate for Adam optimizer\n",
    "args['epochs'] = 401       # how many epochs to run for\n",
    "args['batch_size'] = 2048   # batch size for SGD\n",
    "args['save'] = True       # save weights at each epoch of training if True\n",
    "args['train'] = True       # train networks if True, else load networks from saved weights\n",
    "\n",
    "args['scheduler'] = True   # use scheduler for learning rate or not\n",
    "args['inClass'] = 0        # set which is the class of the inliers\n",
    "\n",
    "args['subspace_reg']=0.0   # weight for subspace regularization, 0 if not applied\n",
    "args['wae']=1.0           # WAE-GAN discriminator lambda, 0 if not WAE\n",
    "args['lipschitz']=0        # Lipschitz penalty weight, 0 if not applied\n",
    "args['advantage']=True     # Advantage penalty \n",
    "\n",
    "args['outratio'] = 0.3     # outlier ration in unlabeled dataset\n",
    "args['seed'] = 2           # seed for randomness\n",
    "\n",
    "args['step1set'] = 'x'\n",
    "args['step2set'] = 'x'\n",
    "args['paramscloning'] = True"
   ]
  },
  {
   "cell_type": "code",
   "execution_count": 3,
   "metadata": {},
   "outputs": [
    {
     "name": "stdout",
     "output_type": "stream",
     "text": [
      "dim_h n_channel n_z sigma lr epochs batch_size save train scheduler inClass subspace_reg wae lipschitz advantage outratio seed step1set step2set paramscloning run epoch loss advantageI precision recall F1 AUC AUPRC tn fp fn tp\n",
      "\n",
      "40 1 10 0.5 0.0001 401 2048 True True True 0 0.0 0.5 0 True 0.05 11 p u True 0 400 0.02872268483042717 0.0008457056246697903 0.2975206611570248 0.6923076923076923 0.4161849710982659 0.8920266420266421 0.4381699930882287 914 85 16 36\n",
      "\n",
      "40 1 10 0.5 0.0001 401 2048 True True True 0 0.0 0.5 0 True 0.05 12 p u True 1 400 0.02903638780117035 0.0019324910826981068 0.43333333333333335 0.5 0.4642857142857143 0.8973011473011472 0.4209586183950974 965 34 26 26\n",
      "\n",
      "40 1 10 0.5 0.0001 401 2048 True True True 0 0.0 0.5 0 True 0.05 13 p u True 2 400 0.029292762279510498 0.0033502597361803055 0.4090909090909091 0.34615384615384615 0.37500000000000006 0.8843458843458843 0.3997544727305599 973 26 34 18\n",
      "\n",
      "40 1 10 0.5 0.0001 401 2048 True True True 0 0.0 0.5 0 True 0.05 14 p u True 3 400 0.027505766600370407 0.0014180310536175966 0.2781954887218045 0.7115384615384616 0.4 0.898956648956649 0.4362119868663173 903 96 15 37\n",
      "\n",
      "40 1 10 0.5 0.0001 401 2048 True True True 0 0.0 0.5 0 True 0.05 11 p p True 4 400 0.030280055478215218 0.00203721784055233 0.288 0.6923076923076923 0.40677966101694907 0.8862901362901363 0.3881686049242533 910 89 16 36\n",
      "\n",
      "40 1 10 0.5 0.0001 401 2048 True True True 0 0.0 0.5 0 True 0.05 12 p p True 5 400 0.028790215030312538 0.0017859211657196283 0.4 0.38461538461538464 0.39215686274509803 0.8798221298221298 0.34451744687737046 969 30 32 20\n",
      "\n",
      "40 1 10 0.5 0.0001 401 2048 True True True 0 0.0 0.5 0 True 0.05 13 p p True 6 400 0.028590478003025055 0.0026537880767136812 0.45 0.34615384615384615 0.3913043478260869 0.8837298837298837 0.4079850112097379 977 22 34 18\n",
      "\n",
      "40 1 10 0.5 0.0001 401 2048 True True True 0 0.0 0.5 0 True 0.05 14 p p True 7 400 0.026519527658820152 0.001938691595569253 0.29365079365079366 0.7115384615384616 0.4157303370786517 0.8924308924308925 0.3657507862356147 910 89 15 37\n",
      "\n"
     ]
    },
    {
     "ename": "KeyboardInterrupt",
     "evalue": "",
     "output_type": "error",
     "traceback": [
      "\u001b[0;31m---------------------------------------------------------------------------\u001b[0m",
      "\u001b[0;31mKeyboardInterrupt\u001b[0m                         Traceback (most recent call last)",
      "\u001b[0;32m<ipython-input-3-37c4b9f5b64e>\u001b[0m in \u001b[0;36m<module>\u001b[0;34m\u001b[0m\n\u001b[1;32m     34\u001b[0m                 \u001b[0msetting\u001b[0m\u001b[0;34m[\u001b[0m\u001b[0;34m'seed'\u001b[0m\u001b[0;34m]\u001b[0m \u001b[0;34m=\u001b[0m \u001b[0mseed\u001b[0m\u001b[0;34m\u001b[0m\u001b[0;34m\u001b[0m\u001b[0m\n\u001b[1;32m     35\u001b[0m                 \u001b[0msetting\u001b[0m\u001b[0;34m[\u001b[0m\u001b[0;34m'row'\u001b[0m\u001b[0;34m]\u001b[0m \u001b[0;34m=\u001b[0m \u001b[0mrow\u001b[0m\u001b[0;34m\u001b[0m\u001b[0;34m\u001b[0m\u001b[0m\n\u001b[0;32m---> 36\u001b[0;31m                 \u001b[0mvalues\u001b[0m \u001b[0;34m=\u001b[0m \u001b[0mcora\u001b[0m\u001b[0;34m.\u001b[0m\u001b[0mrun\u001b[0m\u001b[0;34m(\u001b[0m\u001b[0msetting\u001b[0m\u001b[0;34m)\u001b[0m\u001b[0;34m\u001b[0m\u001b[0;34m\u001b[0m\u001b[0m\n\u001b[0m\u001b[1;32m     37\u001b[0m                 \u001b[0;32mfor\u001b[0m \u001b[0mv\u001b[0m \u001b[0;32min\u001b[0m \u001b[0mvalues\u001b[0m\u001b[0;34m:\u001b[0m\u001b[0;34m\u001b[0m\u001b[0;34m\u001b[0m\u001b[0m\n\u001b[1;32m     38\u001b[0m                     \u001b[0mallv\u001b[0m \u001b[0;34m=\u001b[0m \u001b[0mlist\u001b[0m\u001b[0;34m(\u001b[0m\u001b[0msetting\u001b[0m\u001b[0;34m.\u001b[0m\u001b[0mvalues\u001b[0m\u001b[0;34m(\u001b[0m\u001b[0;34m)\u001b[0m\u001b[0;34m)\u001b[0m  \u001b[0;34m+\u001b[0m \u001b[0mlist\u001b[0m\u001b[0;34m(\u001b[0m\u001b[0mv\u001b[0m\u001b[0;34m)\u001b[0m\u001b[0;34m\u001b[0m\u001b[0;34m\u001b[0m\u001b[0m\n",
      "\u001b[0;32m~/Anomaly/Clean/cora_fmnist.py\u001b[0m in \u001b[0;36mrun\u001b[0;34m(args)\u001b[0m\n\u001b[1;32m    345\u001b[0m             \u001b[0;31m#compute advantage on best reconstructed sample to make training stable.\u001b[0m\u001b[0;34m\u001b[0m\u001b[0;34m\u001b[0m\u001b[0;34m\u001b[0m\u001b[0m\n\u001b[1;32m    346\u001b[0m             \u001b[0;32mif\u001b[0m \u001b[0margs\u001b[0m\u001b[0;34m[\u001b[0m\u001b[0;34m'advantage'\u001b[0m\u001b[0;34m]\u001b[0m\u001b[0;34m:\u001b[0m\u001b[0;34m\u001b[0m\u001b[0;34m\u001b[0m\u001b[0m\n\u001b[0;32m--> 347\u001b[0;31m                 \u001b[0madvantageI\u001b[0m \u001b[0;34m=\u001b[0m \u001b[0mlossUO\u001b[0m\u001b[0;34m.\u001b[0m\u001b[0mmin\u001b[0m\u001b[0;34m(\u001b[0m\u001b[0;34m)\u001b[0m \u001b[0;34m-\u001b[0m \u001b[0mlossI\u001b[0m\u001b[0;34m.\u001b[0m\u001b[0mmin\u001b[0m\u001b[0;34m(\u001b[0m\u001b[0;34m)\u001b[0m\u001b[0;34m\u001b[0m\u001b[0;34m\u001b[0m\u001b[0m\n\u001b[0m\u001b[1;32m    348\u001b[0m \u001b[0;34m\u001b[0m\u001b[0m\n\u001b[1;32m    349\u001b[0m             \u001b[0;31m# compute y based on the decoder with lower error.\u001b[0m\u001b[0;34m\u001b[0m\u001b[0;34m\u001b[0m\u001b[0;34m\u001b[0m\u001b[0m\n",
      "\u001b[0;31mKeyboardInterrupt\u001b[0m: "
     ]
    }
   ],
   "source": [
    "combinations = [ args.copy() for i in range(2)]\n",
    "\n",
    "combinations[0]['step1set']='p'\n",
    "combinations[0]['step2set']='u'\n",
    "combinations[0]['wae']=0.5\n",
    "combinations[0]['sigma']=1.0\n",
    "\n",
    "combinations[0]['step1set']='p'\n",
    "combinations[0]['step2set']='u'\n",
    "combinations[0]['wae']=0.5\n",
    "combinations[0]['sigma']=0.5\n",
    "\n",
    "combinations[1]['step1set']='p'\n",
    "combinations[1]['step2set']='p'\n",
    "combinations[1]['wae']=0.5\n",
    "combinations[1]['sigma']=1.0\n",
    "\n",
    "combinations[1]['step1set']='p'\n",
    "combinations[1]['step2set']='p'\n",
    "combinations[1]['wae']=0.5\n",
    "combinations[1]['sigma']=0.5\n",
    "\n",
    "\n",
    "with open('output_lasttry_FMNIST.csv','a+') as fout:\n",
    "    columns = list(args.keys()) + [\"run\",\"epoch\",\"loss\",\"advantageI\",\"precision\",\"recall\",\"F1\",\"AUC\",\"AUPRC\",\"tn\", \"fp\", \"fn\", \"tp\"]\n",
    "    fout.write(\";\".join(columns) + \"\\n\")\n",
    "    print(\" \".join(columns) + \"\\n\")\n",
    "    row = 0\n",
    "    \n",
    "    for outratio in [0.05,0.1,0.2,0.5]:\n",
    "        for setting in combinations:\n",
    "            for seed in range(11,15):\n",
    "                setting['outratio'] = outratio\n",
    "                setting['seed'] = seed\n",
    "                setting['row'] = row\n",
    "                values = cora.run(setting)\n",
    "                for v in values:\n",
    "                    allv = list(setting.values())  + list(v)\n",
    "                    strallv = list(map(str,allv))\n",
    "                    fout.write(\";\".join(strallv) + '\\n')\n",
    "                print(\" \".join(strallv) + '\\n')\n",
    "                row += 1\n",
    "                "
   ]
  },
  {
   "cell_type": "code",
   "execution_count": null,
   "metadata": {},
   "outputs": [],
   "source": []
  }
 ],
 "metadata": {
  "kernelspec": {
   "display_name": "Python 3",
   "language": "python",
   "name": "python3"
  },
  "language_info": {
   "codemirror_mode": {
    "name": "ipython",
    "version": 3
   },
   "file_extension": ".py",
   "mimetype": "text/x-python",
   "name": "python",
   "nbconvert_exporter": "python",
   "pygments_lexer": "ipython3",
   "version": "3.6.7"
  }
 },
 "nbformat": 4,
 "nbformat_minor": 2
}
