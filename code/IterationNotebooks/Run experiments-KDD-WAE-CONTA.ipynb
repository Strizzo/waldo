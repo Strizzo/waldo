{
 "cells": [
  {
   "cell_type": "code",
   "execution_count": 1,
   "metadata": {},
   "outputs": [],
   "source": [
    "import numpy as np\n",
    "import wae_conta_kdd as cora\n",
    "\n",
    "import warnings\n",
    "warnings.filterwarnings('ignore')"
   ]
  },
  {
   "cell_type": "code",
   "execution_count": 2,
   "metadata": {},
   "outputs": [],
   "source": [
    "args = dict()\n",
    "args['dim_h'] = 40         # factor controlling size of hidden layers\n",
    "args['n_channel'] = 3      # number of channels in the input data (MNIST = 1, greyscale)\n",
    "args['n_z'] = 10           # number of dimensions in latent space. \n",
    "args['sigma'] = 0.5        # variance in n_z\n",
    "args['lr'] = 0.0001        # learning rate for Adam optimizer\n",
    "args['epochs'] = 101       # how many epochs to run for \n",
    "args['batch_size'] = 2000   # batch size for SGD\n",
    "args['save'] = True       # save weights at each epoch of training if True\n",
    "args['train'] = True       # train networks if True, else load networks from saved weights\n",
    "\n",
    "args['scheduler'] = True   # use scheduler for learning rate or not\n",
    "args['inClass'] = 0        # set which is the class of the inliers\n",
    "\n",
    "args['subspace_reg']=0.0   # weight for subspace regularization, 0 if not applied\n",
    "args['wae']=0.1           # WAE-GAN discriminator lambda, 0 if not WAE\n",
    "args['lipschitz']=0        # Lipschitz penalty weight, 0 if not applied\n",
    "args['advantage']=True     # Advantage penalty \n",
    "\n",
    "args['outratio'] = 0.3     # outlier ration in unlabeled dataset\n",
    "args['seed'] = 11           # seed for randomness\n",
    "\n",
    "args['step1set'] = 'p'\n",
    "args['step2set'] = 'p'\n",
    "args['paramscloning'] = True\n",
    "args['conta'] = 0.05"
   ]
  },
  {
   "cell_type": "code",
   "execution_count": 3,
   "metadata": {},
   "outputs": [
    {
     "name": "stdout",
     "output_type": "stream",
     "text": [
      "dim_h n_channel n_z sigma lr epochs batch_size save train scheduler inClass subspace_reg wae lipschitz advantage outratio seed step1set step2set paramscloning conta run epoch loss advantageI precision recall F1 AUC AUPRC tn fp fn tp\n",
      "\n",
      "40 3 10 1.0 0.0001 101 2000 True True True 0 0.0 0.1 0 True 0.05 11 p p True 0.05 0 100 0.003284227102994919 0.0 0.4456140350877193 0.4456140350877193 0.4456140350877193 0.9694554456860744 0.41267943180922667 89369 2686 2686 2159\n",
      "\n",
      "40 3 10 1.0 0.0001 101 2000 True True True 0 0.0 0.1 0 True 0.05 11 p p True 0.1 1 100 0.0033896693494170904 0.0 0.15583075335397317 0.15583075335397317 0.15583075335397317 0.9524515580183002 0.31820622232119117 87965 4090 4090 755\n",
      "\n",
      "40 3 10 1.0 0.0001 101 2000 True True True 0 0.0 0.1 0 True 0.1 11 p p True 0.05 2 100 0.003284227102994919 0.0 0.6654282765737874 0.6654282765737874 0.6654282765737874 0.9678852162715549 0.5687273951512537 83968 3242 3242 6448\n",
      "\n",
      "40 3 10 1.0 0.0001 101 2000 True True True 0 0.0 0.1 0 True 0.1 11 p p True 0.1 3 100 0.0033896693494170904 0.0 0.5105263157894737 0.5105263157894737 0.5105263157894737 0.9499873033420274 0.4690783280599744 82467 4743 4743 4947\n",
      "\n",
      "40 3 10 1.0 0.0001 101 2000 True True True 0 0.0 0.1 0 True 0.2 11 p p True 0.05 4 100 0.003284227102994919 0.0 0.8260061919504644 0.8260061919504644 0.8260061919504644 0.9643661321529862 0.7139940424857641 74148 3372 3372 16008\n",
      "\n",
      "40 3 10 1.0 0.0001 101 2000 True True True 0 0.0 0.1 0 True 0.2 11 p p True 0.1 5 100 0.0033896693494170904 0.0 0.7514963880288957 0.7514963880288957 0.7514963880288957 0.9461089930785197 0.6371428190191629 72704 4816 4816 14564\n",
      "\n",
      "40 3 10 1.0 0.0001 101 2000 True True True 0 0.0 0.1 0 True 0.5 11 p p True 0.05 6 100 0.003284227102994919 0.0 0.9301754385964912 0.9301754385964912 0.9301754385964912 0.9488677691618717 0.8744549320003938 45067 3383 3383 45067\n",
      "\n",
      "40 3 10 1.0 0.0001 101 2000 True True True 0 0.0 0.1 0 True 0.5 11 p p True 0.1 7 100 0.0033896693494170904 0.0 0.9004127966976264 0.9004127966976264 0.9004127966976264 0.9282952525184751 0.8542527844272075 43625 4825 4825 43625\n",
      "\n"
     ]
    }
   ],
   "source": [
    "combinations = [ args.copy() for i in range(2)]\n",
    "\n",
    "#combinations[0]['subspace_reg']=0.1\n",
    "#combinations[0]['wae']=0.0\n",
    "#combinations[0]['advantage']=False\n",
    "#combinations[0]['paramscloning']=False\n",
    "\n",
    "#combinations[0]['subspace_reg']=0.1\n",
    "#combinations[0]['wae']=0.0\n",
    "#combinations[0]['advantage']=True\n",
    "#combinations[0]['paramscloning']=True\n",
    "\n",
    "\n",
    "#combinations[2]['advantage']=False\n",
    "#combinations[2]['paramscloning']=False\n",
    "\n",
    "combinations[0]['step1set']='p'\n",
    "combinations[0]['step2set']='p'\n",
    "combinations[0]['wae'] = 0.1\n",
    "combinations[0]['sigma'] = 1.0\n",
    "combinations[0]['n_z'] = 10\n",
    "combinations[0]['batch_size'] = 2000\n",
    "combinations[0]['conta'] = 0.05\n",
    "\n",
    "\n",
    "combinations[1]['step1set']='p'\n",
    "combinations[1]['step2set']='p'\n",
    "combinations[1]['wae'] = 0.1\n",
    "combinations[1]['sigma'] = 1.0\n",
    "combinations[1]['n_z'] = 10\n",
    "combinations[1]['batch_size'] = 2000\n",
    "combinations[1]['conta'] = 0.1\n",
    "\n",
    "\n",
    "\n",
    "\n",
    "\n",
    "\n",
    "with open('output_conta_kdd_wae2k_2.csv','a+') as fout:\n",
    "    columns = list(args.keys()) + [\"run\",\"epoch\",\"loss\",\"advantageI\",\"precision\",\"recall\",\"F1\",\"AUC\",\"AUPRC\",\"tn\", \"fp\", \"fn\", \"tp\"]\n",
    "    fout.write(\";\".join(columns) + \"\\n\")\n",
    "    print(\" \".join(columns) + \"\\n\")\n",
    "    row = 0\n",
    "    \n",
    "    for outratio in [0.05,0.1,0.2,0.5]:\n",
    "        for seed in [11]:\n",
    "            for setting in combinations:\n",
    "                setting['outratio'] = outratio\n",
    "                setting['inClass'] = 0\n",
    "                setting['seed'] = seed\n",
    "                setting['row'] = row\n",
    "                values = cora.run(setting)\n",
    "                for v in values:\n",
    "                    allv = list(setting.values())  + list(v)\n",
    "                    strallv = list(map(str,allv))\n",
    "                    fout.write(\";\".join(strallv) + '\\n')\n",
    "                print(\" \".join(strallv) + '\\n')\n",
    "                row += 1\n",
    "                "
   ]
  },
  {
   "cell_type": "code",
   "execution_count": 4,
   "metadata": {},
   "outputs": [
    {
     "data": {
      "text/plain": [
       "8"
      ]
     },
     "execution_count": 4,
     "metadata": {},
     "output_type": "execute_result"
    }
   ],
   "source": [
    "row"
   ]
  },
  {
   "cell_type": "code",
   "execution_count": null,
   "metadata": {},
   "outputs": [],
   "source": []
  }
 ],
 "metadata": {
  "kernelspec": {
   "display_name": "Python 3",
   "language": "python",
   "name": "python3"
  },
  "language_info": {
   "codemirror_mode": {
    "name": "ipython",
    "version": 3
   },
   "file_extension": ".py",
   "mimetype": "text/x-python",
   "name": "python",
   "nbconvert_exporter": "python",
   "pygments_lexer": "ipython3",
   "version": "3.6.7"
  }
 },
 "nbformat": 4,
 "nbformat_minor": 2
}
